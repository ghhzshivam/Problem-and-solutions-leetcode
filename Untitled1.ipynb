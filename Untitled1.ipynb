{
 "cells": [
  {
   "cell_type": "code",
   "execution_count": 2,
   "id": "ba8757ec",
   "metadata": {},
   "outputs": [
    {
     "data": {
      "text/plain": [
       "10"
      ]
     },
     "execution_count": 2,
     "metadata": {},
     "output_type": "execute_result"
    }
   ],
   "source": [
    "# wealthiest customer\n",
    "\n",
    "account = [[1,5],[7,3],[3,5]]\n",
    "\n",
    "l =[]\n",
    "for i in account:\n",
    "    l.append(sum(i))\n",
    "max(l)"
   ]
  },
  {
   "cell_type": "code",
   "execution_count": 9,
   "id": "2943cc65",
   "metadata": {},
   "outputs": [
    {
     "data": {
      "text/plain": [
       "[1, 3, 12, 0, 0]"
      ]
     },
     "execution_count": 9,
     "metadata": {},
     "output_type": "execute_result"
    }
   ],
   "source": [
    "# move zeros\n",
    "\n",
    "nums = [0,1,0,3,12]\n",
    "\n",
    "# for i in range(0,len(nums)):\n",
    "#     for j in range(i+1,len(nums)):\n",
    "#         if nums[i]==nums[j]:\n",
    "zero_count = 0           \n",
    "l= []\n",
    "for i in nums:\n",
    "    if i != 0:\n",
    "        l.append(i)\n",
    "    else:\n",
    "        zero_count += 1\n",
    "\n",
    "for i in range(0, zero_count):\n",
    "    l.append(0)\n",
    "l"
   ]
  },
  {
   "cell_type": "code",
   "execution_count": 10,
   "id": "339e7fab",
   "metadata": {},
   "outputs": [],
   "source": [
    "# Sum of all odd subarrys\n",
    "\n",
    "arr = [1,4,2,5,3]\n",
    "\n",
    "n = len(arr)\n",
    "odd = []\n",
    "\n",
    "\n",
    "for i in odd:"
   ]
  },
  {
   "cell_type": "code",
   "execution_count": 11,
   "id": "fd7cf033",
   "metadata": {},
   "outputs": [
    {
     "data": {
      "text/plain": [
       "5"
      ]
     },
     "execution_count": 11,
     "metadata": {},
     "output_type": "execute_result"
    }
   ],
   "source": [
    "n"
   ]
  },
  {
   "cell_type": "code",
   "execution_count": null,
   "id": "164d82f3",
   "metadata": {},
   "outputs": [],
   "source": []
  }
 ],
 "metadata": {
  "kernelspec": {
   "display_name": "Python 3 (ipykernel)",
   "language": "python",
   "name": "python3"
  },
  "language_info": {
   "codemirror_mode": {
    "name": "ipython",
    "version": 3
   },
   "file_extension": ".py",
   "mimetype": "text/x-python",
   "name": "python",
   "nbconvert_exporter": "python",
   "pygments_lexer": "ipython3",
   "version": "3.9.7"
  }
 },
 "nbformat": 4,
 "nbformat_minor": 5
}
