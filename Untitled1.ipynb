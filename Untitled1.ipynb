{
 "cells": [
  {
   "cell_type": "code",
   "execution_count": 28,
   "id": "6a850a80",
   "metadata": {},
   "outputs": [
    {
     "name": "stdout",
     "output_type": "stream",
     "text": [
      "doing a update of  [[4, 'pie', 'land']]\n"
     ]
    }
   ],
   "source": [
    "# dictionares\n",
    "#creating an array to store values\n",
    "def hashn():\n",
    "    l = []\n",
    "    return l\n",
    "\n",
    "# To enter the key value pair\n",
    "def setn(hashtable, pair):\n",
    "    hashtable.append(pair)\n",
    "    return hashtable\n",
    "    \n",
    "# Function to get the the value giving key\n",
    "def get(key, hashtable):\n",
    "    for i in hashtable:  #O(n)\n",
    "        if i[0]==key:\n",
    "            print(i[1:])\n",
    "\n",
    "# creating hash table\n",
    "hashtable = hashn()\n",
    "\n",
    "key_value_pair = [4, 'pie', 'land']\n",
    "setn(hashtable, key_value_pair)\n",
    "print('doing a update of ',hashtable)\n",
    "get(1, hashtable)"
   ]
  },
  {
   "cell_type": "code",
   "execution_count": 26,
   "id": "bdcfa552",
   "metadata": {},
   "outputs": [],
   "source": []
  },
  {
   "cell_type": "code",
   "execution_count": 27,
   "id": "93f0a854",
   "metadata": {},
   "outputs": [],
   "source": []
  },
  {
   "cell_type": "code",
   "execution_count": null,
   "id": "171db82a",
   "metadata": {},
   "outputs": [],
   "source": []
  },
  {
   "cell_type": "code",
   "execution_count": null,
   "id": "57608a79",
   "metadata": {},
   "outputs": [],
   "source": []
  },
  {
   "cell_type": "code",
   "execution_count": null,
   "id": "e1d20ddd",
   "metadata": {},
   "outputs": [],
   "source": []
  },
  {
   "cell_type": "code",
   "execution_count": null,
   "id": "7ad56765",
   "metadata": {},
   "outputs": [],
   "source": []
  },
  {
   "cell_type": "code",
   "execution_count": null,
   "id": "72fc2805",
   "metadata": {},
   "outputs": [],
   "source": []
  },
  {
   "cell_type": "code",
   "execution_count": null,
   "id": "aece19ae",
   "metadata": {},
   "outputs": [],
   "source": []
  }
 ],
 "metadata": {
  "kernelspec": {
   "display_name": "Python 3 (ipykernel)",
   "language": "python",
   "name": "python3"
  },
  "language_info": {
   "codemirror_mode": {
    "name": "ipython",
    "version": 3
   },
   "file_extension": ".py",
   "mimetype": "text/x-python",
   "name": "python",
   "nbconvert_exporter": "python",
   "pygments_lexer": "ipython3",
   "version": "3.9.7"
  }
 },
 "nbformat": 4,
 "nbformat_minor": 5
}
