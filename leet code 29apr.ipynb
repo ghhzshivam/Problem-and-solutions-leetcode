{
 "cells": [
  {
   "cell_type": "code",
   "execution_count": 26,
   "id": "b327ffdc",
   "metadata": {},
   "outputs": [
    {
     "data": {
      "text/plain": [
       "[1, 1, 2, 3, 4, 4]"
      ]
     },
     "execution_count": 26,
     "metadata": {},
     "output_type": "execute_result"
    }
   ],
   "source": [
    "list1 = [1,2,4]\n",
    "list2 = [1,3,4]\n",
    "# Output: [1,1,2,3,4,4]\n",
    "\n",
    "list1.extend(list2)\n",
    "list1.sort()\n",
    "list1"
   ]
  },
  {
   "cell_type": "code",
   "execution_count": 41,
   "id": "fdad7611",
   "metadata": {},
   "outputs": [
    {
     "data": {
      "text/plain": [
       "70"
      ]
     },
     "execution_count": 41,
     "metadata": {},
     "output_type": "execute_result"
    }
   ],
   "source": [
    "# num = [1,0,-1,0,-2,2]\n",
    "# target = 0\n",
    "num = [2,2,2,2,2]\n",
    "target = 8\n",
    "\n",
    "l1 = []\n",
    "l2 = []\n",
    "\n",
    "# Output: [[-2,-1,1,2],[-2,0,0,2],[-1,0,0,1]]\n",
    "def foursum(num,target):\n",
    "    l = len(num)\n",
    "    l1 = []\n",
    "    l2 = []\n",
    "    for i in range(0,l):\n",
    "        for j in range(i,l):\n",
    "            for k in range(j,l):\n",
    "                for m in range(k,l):\n",
    "                    if num[i]+num[j]+num[k]+num[m] == target:\n",
    "                        l2 = [num[i],num[j],num[k],num[m]]\n",
    "                        l1.append(l2)\n",
    "    return l1\n",
    "\n",
    "len(foursum(num,target))"
   ]
  },
  {
   "cell_type": "code",
   "execution_count": null,
   "id": "d54406a6",
   "metadata": {},
   "outputs": [],
   "source": []
  },
  {
   "cell_type": "code",
   "execution_count": null,
   "id": "ae3b738e",
   "metadata": {},
   "outputs": [],
   "source": []
  }
 ],
 "metadata": {
  "kernelspec": {
   "display_name": "Python 3 (ipykernel)",
   "language": "python",
   "name": "python3"
  },
  "language_info": {
   "codemirror_mode": {
    "name": "ipython",
    "version": 3
   },
   "file_extension": ".py",
   "mimetype": "text/x-python",
   "name": "python",
   "nbconvert_exporter": "python",
   "pygments_lexer": "ipython3",
   "version": "3.9.7"
  }
 },
 "nbformat": 4,
 "nbformat_minor": 5
}
