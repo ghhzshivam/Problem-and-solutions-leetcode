{
 "cells": [
  {
   "cell_type": "code",
   "execution_count": 21,
   "id": "985b8b40",
   "metadata": {},
   "outputs": [
    {
     "name": "stdout",
     "output_type": "stream",
     "text": [
      "AP 0\n",
      "not ap 1\n"
     ]
    }
   ],
   "source": [
    "# 1502. Can Make Arithmetic Progression From Sequence\n",
    "\n",
    "arr = arr = [1,2,4]\n",
    "\n",
    "def AP( arr):\n",
    "    arr.sort()\n",
    "    diff = arr[1]-arr[0]\n",
    "\n",
    "    for i in range(0,len(arr)-1):\n",
    "        if diff == (arr[i+1]-arr[i]):\n",
    "            print(f'AP {i}')\n",
    "        else:\n",
    "            print(f'not ap {i}')\n",
    "\n",
    "AP(arr)"
   ]
  },
  {
   "cell_type": "code",
   "execution_count": 23,
   "id": "7d71f08f",
   "metadata": {},
   "outputs": [],
   "source": [
    "# 202. Happy Number\n",
    "\n",
    "# n  = 19\n",
    "\n",
    "# while n==0:\n",
    "#     suj = n%10*n%10+n%100*n%100\n",
    "#     n = suj\n",
    "#     if n == 0:\n",
    "#         print('happy')\n",
    "#         break\n",
    "    "
   ]
  },
  {
   "cell_type": "code",
   "execution_count": 35,
   "id": "f04bf111",
   "metadata": {},
   "outputs": [
    {
     "name": "stdout",
     "output_type": "stream",
     "text": [
      "144\n"
     ]
    },
    {
     "data": {
      "text/plain": [
       "1"
      ]
     },
     "execution_count": 35,
     "metadata": {},
     "output_type": "execute_result"
    }
   ],
   "source": [
    "# 1822. Sign of the Product of an Array\n",
    "\n",
    "nums = [-1,-2,-3,-4,3,2,1]\n",
    "\n",
    "def sign(nums):\n",
    "    neg = 0\n",
    "    pro = 1\n",
    "    for i in nums:\n",
    "        if i<0:\n",
    "            neg +=1\n",
    "        pro = pro*i\n",
    "\n",
    "    sign = 0\n",
    "    if neg%2==0:\n",
    "            sign = 1\n",
    "    print( pro)\n",
    "    return( sign)\n",
    "sign(nums)"
   ]
  },
  {
   "cell_type": "code",
   "execution_count": 44,
   "id": "0a6e3aa2",
   "metadata": {},
   "outputs": [
    {
     "data": {
      "text/plain": [
       "'alGalooG'"
      ]
     },
     "execution_count": 44,
     "metadata": {},
     "output_type": "execute_result"
    }
   ],
   "source": [
    "# 1678. Goal Parser Interpretation\n",
    "\n",
    "# a =\"G()()()()(al)\"\n",
    "a =  \"(al)G(al)()()G\"\n",
    "a =a.replace('()','o')\n",
    "a =a.replace('(al)', 'al')\n",
    "a"
   ]
  },
  {
   "cell_type": "code",
   "execution_count": 48,
   "id": "756708ec",
   "metadata": {},
   "outputs": [
    {
     "name": "stdout",
     "output_type": "stream",
     "text": [
      "1\n",
      "5\n",
      "9\n"
     ]
    },
    {
     "data": {
      "text/plain": [
       "15"
      ]
     },
     "execution_count": 48,
     "metadata": {},
     "output_type": "execute_result"
    }
   ],
   "source": [
    "# # 1572. Matrix Diagonal Sum\n",
    "\n",
    "# mat = [[1,2,3],\n",
    "#               [4,5,6],\n",
    "#               [7,8,9]]\n",
    "\n",
    "# sumo = 0\n",
    "# for i in range(0, len(mat)):\n",
    "#     for j in range(0, len(mat)):\n",
    "#         if i ==j:\n",
    "#             print(mat[i][j])\n",
    "#             sumo += mat[i][j]\n",
    "            \n",
    "# sumo"
   ]
  },
  {
   "cell_type": "code",
   "execution_count": 61,
   "id": "1159cd84",
   "metadata": {},
   "outputs": [
    {
     "name": "stdout",
     "output_type": "stream",
     "text": [
      "False\n"
     ]
    }
   ],
   "source": [
    "# 1232. Check If It Is a Straight Line\n",
    "\n",
    "# y = mx + c\n",
    "cor = [[1,2],[2,3],[3,4],[4,5],[5,6],[6,7]]\n",
    "# cor =[[1,1],[2,2],[3,4],[4,5],[5,6],[7,7]]\n",
    "slope = (cor[1][1] - cor[0][1])/(cor[1][0] - cor[0][0])\n",
    "c = cor[0][1] - slope*cor[0][0]\n",
    "\n",
    "for i in range(1, len(cor)):\n",
    "    if  cor[i][1] == slope*cor[i][0] + c:\n",
    "        if i == len(cor):\n",
    "            print('true')\n",
    "        else:\n",
    "            print('False')\n",
    "            break"
   ]
  },
  {
   "cell_type": "code",
   "execution_count": 51,
   "id": "a420c742",
   "metadata": {},
   "outputs": [
    {
     "data": {
      "text/plain": [
       "1.0"
      ]
     },
     "execution_count": 51,
     "metadata": {},
     "output_type": "execute_result"
    }
   ],
   "source": [
    "slope"
   ]
  },
  {
   "cell_type": "code",
   "execution_count": null,
   "id": "ba3cf32e",
   "metadata": {},
   "outputs": [],
   "source": []
  }
 ],
 "metadata": {
  "kernelspec": {
   "display_name": "Python 3 (ipykernel)",
   "language": "python",
   "name": "python3"
  },
  "language_info": {
   "codemirror_mode": {
    "name": "ipython",
    "version": 3
   },
   "file_extension": ".py",
   "mimetype": "text/x-python",
   "name": "python",
   "nbconvert_exporter": "python",
   "pygments_lexer": "ipython3",
   "version": "3.9.7"
  }
 },
 "nbformat": 4,
 "nbformat_minor": 5
}
