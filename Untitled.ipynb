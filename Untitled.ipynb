{
 "cells": [
  {
   "cell_type": "code",
   "execution_count": null,
   "id": "fd0cf112",
   "metadata": {},
   "outputs": [],
   "source": [
    "a = ['nemo']\n",
    "\n",
    "def find(a):\n",
    "    for(i==0, i<len(a), i+= 1):\n",
    "        if(array[i]=='nemo'):\n",
    "            print('get it')\n",
    "            \n",
    "            \n",
    "find(a)"
   ]
  },
  {
   "cell_type": "code",
   "execution_count": null,
   "id": "d4f275c2",
   "metadata": {},
   "outputs": [],
   "source": [
    "string = 'hell owdd'\n",
    "#easy way\n",
    "def reverse(a):\n",
    "    return a[::-1]\n",
    "\n",
    "print(reverse(string))\n",
    "\n",
    "# hard way\n",
    "def rev(string):\n",
    "    l = len(string)\n",
    "    nl = ''\n",
    "    for i in range(l-1,-1,-1):\n",
    "        nl = nl + string[i]\n",
    "    return nl\n",
    "\n",
    "print(rev(string))"
   ]
  },
  {
   "cell_type": "code",
   "execution_count": 13,
   "id": "30469cef",
   "metadata": {},
   "outputs": [
    {
     "name": "stdout",
     "output_type": "stream",
     "text": [
      "[12, 2, 14, 4, 2, 1, True, False, 'a']\n"
     ]
    },
    {
     "ename": "TypeError",
     "evalue": "'<' not supported between instances of 'str' and 'int'",
     "output_type": "error",
     "traceback": [
      "\u001b[1;31m---------------------------------------------------------------------------\u001b[0m",
      "\u001b[1;31mTypeError\u001b[0m                                 Traceback (most recent call last)",
      "\u001b[1;32m~\\AppData\\Local\\Temp/ipykernel_17276/392399949.py\u001b[0m in \u001b[0;36m<module>\u001b[1;34m\u001b[0m\n\u001b[0;32m     10\u001b[0m \u001b[1;33m\u001b[0m\u001b[0m\n\u001b[0;32m     11\u001b[0m \u001b[1;33m\u001b[0m\u001b[0m\n\u001b[1;32m---> 12\u001b[1;33m \u001b[0msort\u001b[0m\u001b[1;33m(\u001b[0m\u001b[0ml1\u001b[0m\u001b[1;33m,\u001b[0m\u001b[0ml2\u001b[0m\u001b[1;33m)\u001b[0m\u001b[1;33m\u001b[0m\u001b[1;33m\u001b[0m\u001b[0m\n\u001b[0m",
      "\u001b[1;32m~\\AppData\\Local\\Temp/ipykernel_17276/392399949.py\u001b[0m in \u001b[0;36msort\u001b[1;34m(l1, l2)\u001b[0m\n\u001b[0;32m      7\u001b[0m     \u001b[0ml1\u001b[0m\u001b[1;33m.\u001b[0m\u001b[0mextend\u001b[0m\u001b[1;33m(\u001b[0m\u001b[0ml2\u001b[0m\u001b[1;33m)\u001b[0m\u001b[1;33m\u001b[0m\u001b[1;33m\u001b[0m\u001b[0m\n\u001b[0;32m      8\u001b[0m     \u001b[0mprint\u001b[0m\u001b[1;33m(\u001b[0m\u001b[0ml1\u001b[0m\u001b[1;33m)\u001b[0m\u001b[1;33m\u001b[0m\u001b[1;33m\u001b[0m\u001b[0m\n\u001b[1;32m----> 9\u001b[1;33m     \u001b[1;32mreturn\u001b[0m \u001b[0msorted\u001b[0m\u001b[1;33m(\u001b[0m\u001b[0ml1\u001b[0m\u001b[1;33m)\u001b[0m\u001b[1;33m\u001b[0m\u001b[1;33m\u001b[0m\u001b[0m\n\u001b[0m\u001b[0;32m     10\u001b[0m \u001b[1;33m\u001b[0m\u001b[0m\n\u001b[0;32m     11\u001b[0m \u001b[1;33m\u001b[0m\u001b[0m\n",
      "\u001b[1;31mTypeError\u001b[0m: '<' not supported between instances of 'str' and 'int'"
     ]
    }
   ],
   "source": [
    "# merge and sort arrays\n",
    "\n",
    "l1 = [12,2,14,4,2,1]\n",
    "l2 = [True, False]\n",
    "\n",
    "def sort(l1,l2):\n",
    "    l1.extend(l2)             # O(1)\n",
    "    print(l1) \n",
    "    return sorted(l1)         # O(n)\n",
    "    \n",
    "\n",
    "sort(l1,l2)"
   ]
  },
  {
   "cell_type": "code",
   "execution_count": null,
   "id": "425fdaf3",
   "metadata": {},
   "outputs": [],
   "source": []
  },
  {
   "cell_type": "code",
   "execution_count": null,
   "id": "1ec49155",
   "metadata": {},
   "outputs": [],
   "source": []
  }
 ],
 "metadata": {
  "kernelspec": {
   "display_name": "Python 3 (ipykernel)",
   "language": "python",
   "name": "python3"
  },
  "language_info": {
   "codemirror_mode": {
    "name": "ipython",
    "version": 3
   },
   "file_extension": ".py",
   "mimetype": "text/x-python",
   "name": "python",
   "nbconvert_exporter": "python",
   "pygments_lexer": "ipython3",
   "version": "3.9.7"
  }
 },
 "nbformat": 4,
 "nbformat_minor": 5
}
