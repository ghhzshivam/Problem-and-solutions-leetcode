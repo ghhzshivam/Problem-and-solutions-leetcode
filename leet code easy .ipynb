{
 "cells": [
  {
   "cell_type": "code",
   "execution_count": 1,
   "id": "5603331c",
   "metadata": {},
   "outputs": [
    {
     "data": {
      "text/plain": [
       "[1, 2, 2]"
      ]
     },
     "execution_count": 1,
     "metadata": {},
     "output_type": "execute_result"
    }
   ],
   "source": [
    "\n",
    "sorted(nums)\n",
    "perime"
   ]
  },
  {
   "cell_type": "code",
   "execution_count": 13,
   "id": "5e1b94ab",
   "metadata": {},
   "outputs": [
    {
     "data": {
      "text/plain": [
       "6"
      ]
     },
     "execution_count": 13,
     "metadata": {},
     "output_type": "execute_result"
    }
   ],
   "source": [
    "nums = [2,1,2]\n",
    "def largestPerimeter( nums):\n",
    "    nums = sorted(nums)\n",
    "    peri = nums[len(nums)-1]+nums[len(nums)-2]+nums[len(nums)-2]\n",
    "    return peri\n",
    "\n",
    "largestPerimeter(nums)\n"
   ]
  },
  {
   "cell_type": "code",
   "execution_count": 17,
   "id": "fe1d507e",
   "metadata": {},
   "outputs": [],
   "source": [
    "# largst perimerterec\n",
    "\n",
    "def largest(num):\n",
    "    nums = sorted(num)\n",
    "    for i in range(len(num)-3,0,-1):\n",
    "        if (num[i] +num[i+1] >num[i+2]):\n",
    "            return num[i]+num[i+1]+num[i+2]\n",
    "        \n",
    "num = [3,6,2,3]\n",
    "largest(num)"
   ]
  },
  {
   "cell_type": "code",
   "execution_count": 18,
   "id": "dec58a42",
   "metadata": {},
   "outputs": [
    {
     "data": {
      "text/plain": [
       "11"
      ]
     },
     "execution_count": 18,
     "metadata": {},
     "output_type": "execute_result"
    }
   ],
   "source": [
    "def point( x, y, points):\n",
    "    \n",
    "    "
   ]
  },
  {
   "cell_type": "code",
   "execution_count": null,
   "id": "acbffe03",
   "metadata": {},
   "outputs": [],
   "source": []
  }
 ],
 "metadata": {
  "kernelspec": {
   "display_name": "Python 3 (ipykernel)",
   "language": "python",
   "name": "python3"
  },
  "language_info": {
   "codemirror_mode": {
    "name": "ipython",
    "version": 3
   },
   "file_extension": ".py",
   "mimetype": "text/x-python",
   "name": "python",
   "nbconvert_exporter": "python",
   "pygments_lexer": "ipython3",
   "version": "3.9.7"
  }
 },
 "nbformat": 4,
 "nbformat_minor": 5
}
