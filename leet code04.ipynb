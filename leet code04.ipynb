{
 "cells": [
  {
   "cell_type": "code",
   "execution_count": null,
   "id": "d27ec6e0",
   "metadata": {},
   "outputs": [],
   "source": [
    "def oddno(low, high):\n",
    "    count = 0\n",
    "#     for i in range(low, high+1):\n",
    "#         if i%2==0:\n",
    "#             pass\n",
    "#         else:\n",
    "#             count+=1\n",
    "    \n",
    "    # \n",
    "    count = (high+1)/2 - low/2\n",
    "    return count  \n",
    "oddno(2,5)\n"
   ]
  },
  {
   "cell_type": "code",
   "execution_count": null,
   "id": "551847bc",
   "metadata": {},
   "outputs": [],
   "source": [
    "# leet code 2 avg sal excluding min and max\n",
    "\n",
    "salary = [48000,59000,99000,13000,78000,45000,31000,17000,39000,37000,93000,77000,33000,28000,4000,54000,67000,6000,1000,11000]\n",
    "\n",
    "def average( salary):\n",
    "    return 1.0*(sum(salary)-min(salary)-max(salary))/(len(salary)-2)\n",
    "average(salary)"
   ]
  },
  {
   "cell_type": "code",
   "execution_count": null,
   "id": "293c6f0c",
   "metadata": {},
   "outputs": [],
   "source": [
    "def hammingWeight(n):\n",
    "    count = 1\n",
    "    for i in range(0,len(n-1)):\n",
    "        if n[i]==1:               \n",
    "            count+=1\n",
    "                \n",
    "    return count\n",
    "\n",
    "hammingWeight('00000000000000000000000000001011')"
   ]
  },
  {
   "cell_type": "code",
   "execution_count": null,
   "id": "4fd0919b",
   "metadata": {},
   "outputs": [],
   "source": [
    "# 191. Number of 1 Bits\n",
    "\n",
    "'''/**\n",
    " * Write a function that takes an unsigned integer and returns the number of ’1' bits it has\n",
    " *  (also known as the Hamming weight).For example, \n",
    " *  the 32-bit integer ’11' has binary representation 00000000000000000000000000001011, so the function should return 3.\n",
    " *\n",
    " */'''\n",
    "\n",
    "public class Solution {\n",
    "#     // you need to treat n as an unsigned value\n",
    "    public int hammingWeight(int n) {\n",
    "        \n",
    "        int num = 0;\n",
    "        \n",
    "        for(int i=0; i<32; i++){\n",
    "            if((n & 1) == 1) num++;\n",
    "            n = n>>1;\n",
    "        }\n",
    "        \n",
    "        return num;\n",
    "        \n",
    "    }\n",
    "}"
   ]
  },
  {
   "cell_type": "code",
   "execution_count": 3,
   "id": "cc7dd7cc",
   "metadata": {},
   "outputs": [
    {
     "name": "stdout",
     "output_type": "stream",
     "text": [
      "27\n",
      "2058\n",
      "2031\n"
     ]
    }
   ],
   "source": [
    "n = 123777\n",
    "\n",
    "sumno = 0\n",
    "product = 1\n",
    "while n:\n",
    "    digit = n%10\n",
    "    sumno +=digit\n",
    "    product *=digit\n",
    "    n=n//10\n",
    "print(sumno)\n",
    "print(product)\n",
    "print(product-sumno)"
   ]
  },
  {
   "cell_type": "code",
   "execution_count": 6,
   "id": "c762af0f",
   "metadata": {},
   "outputs": [
    {
     "name": "stdout",
     "output_type": "stream",
     "text": [
      "3450\n",
      "0\n",
      "345\n",
      "5\n",
      "34\n",
      "4\n",
      "3\n",
      "3\n"
     ]
    }
   ],
   "source": [
    "n  = 3450\n",
    "while n:\n",
    "    print(n)\n",
    "    print(n%10)\n",
    "    n=n//10"
   ]
  },
  {
   "cell_type": "code",
   "execution_count": null,
   "id": "62c02751",
   "metadata": {},
   "outputs": [],
   "source": []
  }
 ],
 "metadata": {
  "kernelspec": {
   "display_name": "Python 3 (ipykernel)",
   "language": "python",
   "name": "python3"
  },
  "language_info": {
   "codemirror_mode": {
    "name": "ipython",
    "version": 3
   },
   "file_extension": ".py",
   "mimetype": "text/x-python",
   "name": "python",
   "nbconvert_exporter": "python",
   "pygments_lexer": "ipython3",
   "version": "3.9.7"
  }
 },
 "nbformat": 4,
 "nbformat_minor": 5
}
