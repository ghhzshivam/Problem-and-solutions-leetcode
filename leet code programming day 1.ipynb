{
 "cells": [
  {
   "cell_type": "code",
   "execution_count": 2,
   "id": "ae94cdc0",
   "metadata": {},
   "outputs": [
    {
     "data": {
      "text/plain": [
       "-1"
      ]
     },
     "execution_count": 2,
     "metadata": {},
     "output_type": "execute_result"
    }
   ],
   "source": [
    "haystack = 'hello'\n",
    "needle = 'llp'\n",
    "haystack.find(needle)"
   ]
  },
  {
   "cell_type": "markdown",
   "id": "385ef841",
   "metadata": {},
   "source": [
    "896. Monotonic Array\n",
    "Easy\n",
    "\n",
    "1492\n",
    "\n",
    "55\n",
    "\n",
    "Add to List\n",
    "\n",
    "Share\n",
    "An array is monotonic if it is either monotone increasing or monotone decreasing.\n",
    "\n",
    "An array nums is monotone increasing if for all i <= j, nums[i] <= nums[j]. An array nums is monotone decreasing if for all i <= j, nums[i] >= nums[j].\n",
    "\n",
    "Given an integer array nums, return true if the given array is monotonic, or false otherwise.\n",
    "\n",
    " \n",
    "\n",
    "Example 1:\n",
    "\n",
    "Input: nums = [1,2,2,3]\n",
    "Output: true"
   ]
  },
  {
   "cell_type": "code",
   "execution_count": 20,
   "id": "79990eb8",
   "metadata": {},
   "outputs": [
    {
     "name": "stdout",
     "output_type": "stream",
     "text": [
      "true\n"
     ]
    }
   ],
   "source": [
    "nums = [1,2,2,3]\n",
    "\n",
    "def ismonotone(nums):\n",
    "    for i in range(1,len(nums)):\n",
    "        if nums[i]>=nums[i-1]:\n",
    "            pass\n",
    "        else:\n",
    "            print('false')\n",
    "            break\n",
    "        if i == len(nums)-1:\n",
    "            print('true')\n",
    "        \n",
    "ismonotone(nums)"
   ]
  },
  {
   "cell_type": "code",
   "execution_count": null,
   "id": "e9a1a477",
   "metadata": {},
   "outputs": [],
   "source": []
  },
  {
   "cell_type": "code",
   "execution_count": null,
   "id": "567fc55b",
   "metadata": {},
   "outputs": [],
   "source": []
  },
  {
   "cell_type": "code",
   "execution_count": null,
   "id": "c9af47ae",
   "metadata": {},
   "outputs": [],
   "source": []
  }
 ],
 "metadata": {
  "kernelspec": {
   "display_name": "Python 3 (ipykernel)",
   "language": "python",
   "name": "python3"
  },
  "language_info": {
   "codemirror_mode": {
    "name": "ipython",
    "version": 3
   },
   "file_extension": ".py",
   "mimetype": "text/x-python",
   "name": "python",
   "nbconvert_exporter": "python",
   "pygments_lexer": "ipython3",
   "version": "3.9.7"
  }
 },
 "nbformat": 4,
 "nbformat_minor": 5
}
