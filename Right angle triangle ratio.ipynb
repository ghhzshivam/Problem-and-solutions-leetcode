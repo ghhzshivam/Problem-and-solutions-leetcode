{
 "cells": [
  {
   "cell_type": "markdown",
   "id": "231b03e0",
   "metadata": {},
   "source": [
    "Cheacking the rato of the right angle triangle whenever cut from mid right angle making a new right angle triangle and than "
   ]
  },
  {
   "cell_type": "code",
   "execution_count": 6,
   "id": "2636d570",
   "metadata": {},
   "outputs": [],
   "source": [
    "import numpy as np\n",
    "area = []\n",
    "\n",
    "h1 =0\n",
    "l = 15\n",
    "b = 17\n",
    "h = np.sqrt(l*l +b*b)\n",
    "h\n",
    "for i in range(0,100):\n",
    "    h = np.sqrt(l*l +b*b)\n",
    "    ar = (l+h)/2\n",
    "    area.append(ar)\n",
    "    h1 = h\n",
    "    h = b\n",
    "    b = h1/2\n",
    "    l = np.sqrt(h*h-b*b)\n",
    "    "
   ]
  },
  {
   "cell_type": "code",
   "execution_count": 26,
   "id": "d42a0017",
   "metadata": {},
   "outputs": [
    {
     "name": "stdout",
     "output_type": "stream",
     "text": [
      "1.269734286522276\n"
     ]
    }
   ],
   "source": [
    "print(b)"
   ]
  },
  {
   "cell_type": "code",
   "execution_count": 15,
   "id": "36a663d0",
   "metadata": {},
   "outputs": [],
   "source": [
    "ratioba = []\n",
    "b = 0\n",
    "for i in range(1,100):\n",
    "    b = area[i]/area[i-1]\n",
    "    ratioba.append(b)\n",
    "ratioab = []\n",
    "b = 0\n",
    "for i in range(1,100):\n",
    "    b = area[i-1]/area[i]\n",
    "    ratioab.append(b)"
   ]
  },
  {
   "cell_type": "code",
   "execution_count": 16,
   "id": "ae5384d8",
   "metadata": {},
   "outputs": [
    {
     "data": {
      "text/plain": [
       "[0.7875663519640305,\n",
       " 0.634867143261138,\n",
       " 0.7875663519640305,\n",
       " 0.634867143261138,\n",
       " 0.7875663519640305,\n",
       " 0.634867143261138,\n",
       " 0.7875663519640305,\n",
       " 0.634867143261138,\n",
       " 0.7875663519640305,\n",
       " 0.634867143261138,\n",
       " 0.7875663519640305,\n",
       " 0.634867143261138,\n",
       " 0.7875663519640305,\n",
       " 0.634867143261138,\n",
       " 0.7875663519640305,\n",
       " 0.634867143261138,\n",
       " 0.7875663519640305,\n",
       " 0.634867143261138,\n",
       " 0.7875663519640305,\n",
       " 0.634867143261138,\n",
       " 0.7875663519640305,\n",
       " 0.634867143261138,\n",
       " 0.7875663519640305,\n",
       " 0.634867143261138,\n",
       " 0.7875663519640305,\n",
       " 0.634867143261138,\n",
       " 0.7875663519640305,\n",
       " 0.634867143261138,\n",
       " 0.7875663519640305,\n",
       " 0.634867143261138,\n",
       " 0.7875663519640305,\n",
       " 0.634867143261138,\n",
       " 0.7875663519640305,\n",
       " 0.634867143261138,\n",
       " 0.7875663519640305,\n",
       " 0.634867143261138,\n",
       " 0.7875663519640305,\n",
       " 0.634867143261138,\n",
       " 0.7875663519640305,\n",
       " 0.634867143261138,\n",
       " 0.7875663519640305,\n",
       " 0.634867143261138,\n",
       " 0.7875663519640305,\n",
       " 0.634867143261138,\n",
       " 0.7875663519640305,\n",
       " 0.634867143261138,\n",
       " 0.7875663519640305,\n",
       " 0.634867143261138,\n",
       " 0.7875663519640305,\n",
       " 0.634867143261138,\n",
       " 0.7875663519640305,\n",
       " 0.634867143261138,\n",
       " 0.7875663519640305,\n",
       " 0.634867143261138,\n",
       " 0.7875663519640305,\n",
       " 0.634867143261138,\n",
       " 0.7875663519640305,\n",
       " 0.634867143261138,\n",
       " 0.7875663519640305,\n",
       " 0.634867143261138,\n",
       " 0.7875663519640305,\n",
       " 0.634867143261138,\n",
       " 0.7875663519640305,\n",
       " 0.634867143261138,\n",
       " 0.7875663519640305,\n",
       " 0.634867143261138,\n",
       " 0.7875663519640305,\n",
       " 0.634867143261138,\n",
       " 0.7875663519640305,\n",
       " 0.634867143261138,\n",
       " 0.7875663519640305,\n",
       " 0.634867143261138,\n",
       " 0.7875663519640305,\n",
       " 0.634867143261138,\n",
       " 0.7875663519640305,\n",
       " 0.634867143261138,\n",
       " 0.7875663519640305,\n",
       " 0.634867143261138,\n",
       " 0.7875663519640305,\n",
       " 0.634867143261138,\n",
       " 0.7875663519640305,\n",
       " 0.634867143261138,\n",
       " 0.7875663519640305,\n",
       " 0.634867143261138,\n",
       " 0.7875663519640305,\n",
       " 0.634867143261138,\n",
       " 0.7875663519640305,\n",
       " 0.634867143261138,\n",
       " 0.7875663519640305,\n",
       " 0.634867143261138,\n",
       " 0.7875663519640305,\n",
       " 0.634867143261138,\n",
       " 0.7875663519640305,\n",
       " 0.634867143261138,\n",
       " 0.7875663519640305,\n",
       " 0.634867143261138,\n",
       " 0.7875663519640305,\n",
       " 0.634867143261138,\n",
       " 0.7875663519640305]"
      ]
     },
     "execution_count": 16,
     "metadata": {},
     "output_type": "execute_result"
    }
   ],
   "source": [
    "ratioba"
   ]
  },
  {
   "cell_type": "code",
   "execution_count": 17,
   "id": "91bbf337",
   "metadata": {},
   "outputs": [
    {
     "data": {
      "text/plain": [
       "[1.269734286522276,\n",
       " 1.575132703928061,\n",
       " 1.269734286522276,\n",
       " 1.575132703928061,\n",
       " 1.269734286522276,\n",
       " 1.575132703928061,\n",
       " 1.269734286522276,\n",
       " 1.575132703928061,\n",
       " 1.269734286522276,\n",
       " 1.575132703928061,\n",
       " 1.269734286522276,\n",
       " 1.575132703928061,\n",
       " 1.269734286522276,\n",
       " 1.575132703928061,\n",
       " 1.269734286522276,\n",
       " 1.575132703928061,\n",
       " 1.269734286522276,\n",
       " 1.575132703928061,\n",
       " 1.269734286522276,\n",
       " 1.575132703928061,\n",
       " 1.269734286522276,\n",
       " 1.575132703928061,\n",
       " 1.269734286522276,\n",
       " 1.575132703928061,\n",
       " 1.269734286522276,\n",
       " 1.575132703928061,\n",
       " 1.269734286522276,\n",
       " 1.575132703928061,\n",
       " 1.269734286522276,\n",
       " 1.575132703928061,\n",
       " 1.269734286522276,\n",
       " 1.575132703928061,\n",
       " 1.269734286522276,\n",
       " 1.575132703928061,\n",
       " 1.269734286522276,\n",
       " 1.575132703928061,\n",
       " 1.269734286522276,\n",
       " 1.575132703928061,\n",
       " 1.269734286522276,\n",
       " 1.575132703928061,\n",
       " 1.269734286522276,\n",
       " 1.575132703928061,\n",
       " 1.269734286522276,\n",
       " 1.575132703928061,\n",
       " 1.269734286522276,\n",
       " 1.575132703928061,\n",
       " 1.269734286522276,\n",
       " 1.575132703928061,\n",
       " 1.269734286522276,\n",
       " 1.575132703928061,\n",
       " 1.269734286522276,\n",
       " 1.575132703928061,\n",
       " 1.269734286522276,\n",
       " 1.575132703928061,\n",
       " 1.269734286522276,\n",
       " 1.575132703928061,\n",
       " 1.269734286522276,\n",
       " 1.575132703928061,\n",
       " 1.269734286522276,\n",
       " 1.575132703928061,\n",
       " 1.269734286522276,\n",
       " 1.575132703928061,\n",
       " 1.269734286522276,\n",
       " 1.575132703928061,\n",
       " 1.269734286522276,\n",
       " 1.575132703928061,\n",
       " 1.269734286522276,\n",
       " 1.575132703928061,\n",
       " 1.269734286522276,\n",
       " 1.575132703928061,\n",
       " 1.269734286522276,\n",
       " 1.575132703928061,\n",
       " 1.269734286522276,\n",
       " 1.575132703928061,\n",
       " 1.269734286522276,\n",
       " 1.575132703928061,\n",
       " 1.269734286522276,\n",
       " 1.575132703928061,\n",
       " 1.269734286522276,\n",
       " 1.575132703928061,\n",
       " 1.269734286522276,\n",
       " 1.575132703928061,\n",
       " 1.269734286522276,\n",
       " 1.575132703928061,\n",
       " 1.269734286522276,\n",
       " 1.575132703928061,\n",
       " 1.269734286522276,\n",
       " 1.575132703928061,\n",
       " 1.269734286522276,\n",
       " 1.575132703928061,\n",
       " 1.269734286522276,\n",
       " 1.575132703928061,\n",
       " 1.269734286522276,\n",
       " 1.575132703928061,\n",
       " 1.269734286522276,\n",
       " 1.575132703928061,\n",
       " 1.269734286522276,\n",
       " 1.575132703928061,\n",
       " 1.269734286522276]"
      ]
     },
     "execution_count": 17,
     "metadata": {},
     "output_type": "execute_result"
    }
   ],
   "source": [
    "ratioab"
   ]
  },
  {
   "cell_type": "code",
   "execution_count": 18,
   "id": "e14294c9",
   "metadata": {},
   "outputs": [
    {
     "name": "stderr",
     "output_type": "stream",
     "text": [
      "C:\\ProgramData\\Anaconda3\\lib\\site-packages\\seaborn\\_decorators.py:36: FutureWarning: Pass the following variables as keyword args: x, y. From version 0.12, the only valid positional argument will be `data`, and passing other arguments without an explicit keyword will result in an error or misinterpretation.\n",
      "  warnings.warn(\n"
     ]
    },
    {
     "data": {
      "text/plain": [
       "<AxesSubplot:>"
      ]
     },
     "execution_count": 18,
     "metadata": {},
     "output_type": "execute_result"
    },
    {
     "data": {
      "image/png": "[encoded data removed]",
      "text/plain": [
       "<Figure size 432x288 with 1 Axes>"
      ]
     },
     "metadata": {
      "needs_background": "light"
     },
     "output_type": "display_data"
    }
   ],
   "source": [
    "import seaborn as sns\n",
    "\n",
    "sns.lineplot(ratioab,ratioba)"
   ]
  },
  {
   "cell_type": "code",
   "execution_count": 20,
   "id": "7fe31ef3",
   "metadata": {},
   "outputs": [
    {
     "name": "stderr",
     "output_type": "stream",
     "text": [
      "C:\\ProgramData\\Anaconda3\\lib\\site-packages\\seaborn\\_decorators.py:36: FutureWarning: Pass the following variables as keyword args: x, y. From version 0.12, the only valid positional argument will be `data`, and passing other arguments without an explicit keyword will result in an error or misinterpretation.\n",
      "  warnings.warn(\n"
     ]
    },
    {
     "data": {
      "text/plain": [
       "<AxesSubplot:>"
      ]
     },
     "execution_count": 20,
     "metadata": {},
     "output_type": "execute_result"
    },
    {
     "data": {
      "image/png": "[encoded data removed]",
      "text/plain": [
       "<Figure size 432x288 with 1 Axes>"
      ]
     },
     "metadata": {
      "needs_background": "light"
     },
     "output_type": "display_data"
    }
   ],
   "source": [
    "sns.scatterplot(ratioab, ratioba)"
   ]
  },
  {
   "cell_type": "code",
   "execution_count": null,
   "id": "d590cd69",
   "metadata": {},
   "outputs": [],
   "source": []
  }
 ],
 "metadata": {
  "kernelspec": {
   "display_name": "Python 3 (ipykernel)",
   "language": "python",
   "name": "python3"
  },
  "language_info": {
   "codemirror_mode": {
    "name": "ipython",
    "version": 3
   },
   "file_extension": ".py",
   "mimetype": "text/x-python",
   "name": "python",
   "nbconvert_exporter": "python",
   "pygments_lexer": "ipython3",
   "version": "3.9.7"
  }
 },
 "nbformat": 4,
 "nbformat_minor": 5
}
